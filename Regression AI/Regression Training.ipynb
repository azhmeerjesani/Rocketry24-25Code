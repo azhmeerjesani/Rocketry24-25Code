{
 "cells": [
  {
   "cell_type": "code",
   "id": "initial_id",
   "metadata": {
    "collapsed": true,
    "ExecuteTime": {
     "end_time": "2025-03-27T01:41:57.586793Z",
     "start_time": "2025-03-27T01:41:57.248138Z"
    }
   },
   "source": [
    "import pandas as pd\n",
    "from sklearn.model_selection import cross_val_score, LeaveOneOut\n",
    "from sklearn.linear_model import LinearRegression, Ridge\n",
    "from sklearn.tree import DecisionTreeRegressor\n",
    "from sklearn.ensemble import RandomForestRegressor, GradientBoostingRegressor\n",
    "from sklearn.svm import SVR\n",
    "import joblib\n",
    "import numpy as np\n",
    "\n",
    "# Load the dataset from the Excel file\n",
    "data = pd.read_excel('Flight Data - V1.xlsx')\n",
    "\n",
    "# Specify the target column (the weight of the clay mass)\n",
    "target_column = \"Weight of Clay Mass\"\n",
    "if target_column not in data.columns:\n",
    "    raise ValueError(f\"Target column '{target_column}' not found in the dataset. Available columns: {data.columns.tolist()}\")\n",
    "\n",
    "# Define inputs (features) and output (target)\n",
    "X = data.drop(columns=[target_column])\n",
    "y = data[target_column]\n",
    "\n",
    "# Define candidate regression models\n",
    "models = {\n",
    "    'Linear Regression': LinearRegression(),\n",
    "    'Ridge Regression': Ridge(),\n",
    "    'Decision Tree': DecisionTreeRegressor(random_state=42),\n",
    "    'Random Forest': RandomForestRegressor(random_state=42),\n",
    "    'Gradient Boosting': GradientBoostingRegressor(random_state=42),\n",
    "    'SVR': SVR(),\n",
    "}\n",
    "\n",
    "# Use Leave-One-Out Cross Validation (LOOCV)\n",
    "loo = LeaveOneOut()\n",
    "cv_scores = {}\n",
    "\n",
    "# Use negative mean squared error as our scoring metric\n",
    "for name, model in models.items():\n",
    "    scores = cross_val_score(model, X, y, cv=loo, scoring='neg_mean_squared_error')\n",
    "    mean_score = np.mean(scores)\n",
    "    cv_scores[name] = mean_score\n",
    "    print(f\"{name} LOOCV Negative MSE: {mean_score:.4f}\")\n",
    "\n",
    "# Determine the best model (highest negative MSE, i.e. closest to 0 is best)\n",
    "best_model_name = max(cv_scores, key=cv_scores.get)\n",
    "best_score = cv_scores[best_model_name]\n",
    "print(f\"\\nBest Model: {best_model_name} with LOOCV Negative MSE: {best_score:.4f}\")\n",
    "\n",
    "# Retrain the best model on the entire dataset\n",
    "best_model = models[best_model_name]\n",
    "best_model.fit(X, y)\n",
    "\n",
    "# Export the best model to a file using joblib\n",
    "joblib.dump(best_model, 'best_regression_model.pkl')\n",
    "print(\"\\nBest model exported as 'best_regression_model.pkl'\")\n"
   ],
   "outputs": [
    {
     "name": "stdout",
     "output_type": "stream",
     "text": [
      "Linear Regression LOOCV Negative MSE: -104.8742\n",
      "Ridge Regression LOOCV Negative MSE: -101.6232\n",
      "Decision Tree LOOCV Negative MSE: -1213.6667\n",
      "Random Forest LOOCV Negative MSE: -1651.0002\n",
      "Gradient Boosting LOOCV Negative MSE: -1344.0436\n",
      "SVR LOOCV Negative MSE: -2119.7269\n",
      "\n",
      "Best Model: Ridge Regression with LOOCV Negative MSE: -101.6232\n",
      "\n",
      "Best model exported as 'best_regression_model.pkl'\n"
     ]
    }
   ],
   "execution_count": 9
  }
 ],
 "metadata": {
  "kernelspec": {
   "display_name": "Python 3",
   "language": "python",
   "name": "python3"
  },
  "language_info": {
   "codemirror_mode": {
    "name": "ipython",
    "version": 2
   },
   "file_extension": ".py",
   "mimetype": "text/x-python",
   "name": "python",
   "nbconvert_exporter": "python",
   "pygments_lexer": "ipython2",
   "version": "2.7.6"
  }
 },
 "nbformat": 4,
 "nbformat_minor": 5
}
