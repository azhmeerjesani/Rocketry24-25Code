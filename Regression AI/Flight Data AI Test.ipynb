{
 "cells": [
  {
   "cell_type": "code",
   "id": "initial_id",
   "metadata": {
    "collapsed": true,
    "ExecuteTime": {
     "end_time": "2025-03-27T01:54:33.976034Z",
     "start_time": "2025-03-27T01:54:33.966579Z"
    }
   },
   "source": [
    "import pandas as pd\n",
    "import joblib\n",
    "\n",
    "# Load the saved model\n",
    "model = joblib.load('best_regression_model.pkl')\n",
    "\n",
    "# Define the input features explicitly.\n",
    "# Replace these keys and values with your actual feature names and desired values.\n",
    "# For example, if your Excel file has columns:\n",
    "#   \"Engine Temperature\", \"Fuel Consumption\", \"Air Pressure\", \"Altitude\"\n",
    "# as inputs (and \"Weight of Clay Mass\" as the target), update the dictionary below.\n",
    "input_data = {\n",
    "    'Humidity': 65,  # Replace with actual value\n",
    "    'Air Pressure': 30.1,     # Replace with actual value\n",
    "    'Temperature': 74,       # Replace with actual value\n",
    "    'Wind Gust Speed': 14,\n",
    "    'Wind Speed': 11,\n",
    "    'Weight of Egg 2': 119,\n",
    "    'Engine Weight': 59,\n",
    "    'Angle': 3,\n",
    "    'Weight of All': 517,\n",
    "    'Height': 790,\n",
    "    'Time': 41.5,\n",
    "    # Replace with actual value\n",
    "    # Add any additional input features here if your training data has more columns.\n",
    "}\n",
    "\n",
    "# Convert the dictionary into a DataFrame (with one row)\n",
    "input_df = pd.DataFrame([input_data])\n",
    "\n",
    "# Use the loaded model to predict the weight of the clay mass\n",
    "predicted_weight = model.predict(input_df)\n",
    "print(\"Predicted Weight of Clay Mass:\", predicted_weight[0])\n"
   ],
   "outputs": [
    {
     "name": "stdout",
     "output_type": "stream",
     "text": [
      "Predicted Weight of Clay Mass: 67.92255129866453\n"
     ]
    }
   ],
   "execution_count": 2
  }
 ],
 "metadata": {
  "kernelspec": {
   "display_name": "Python 3",
   "language": "python",
   "name": "python3"
  },
  "language_info": {
   "codemirror_mode": {
    "name": "ipython",
    "version": 2
   },
   "file_extension": ".py",
   "mimetype": "text/x-python",
   "name": "python",
   "nbconvert_exporter": "python",
   "pygments_lexer": "ipython2",
   "version": "2.7.6"
  }
 },
 "nbformat": 4,
 "nbformat_minor": 5
}
